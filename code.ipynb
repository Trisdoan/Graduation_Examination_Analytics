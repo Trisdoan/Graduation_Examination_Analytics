{
 "cells": [
  {
   "cell_type": "markdown",
   "id": "da7e2447-437a-4bd4-87e3-ae69860367ca",
   "metadata": {},
   "source": [
    "# Import dataset"
   ]
  },
  {
   "cell_type": "code",
   "execution_count": 1,
   "id": "34fcfb39-d4d0-4024-b188-9c802afff7af",
   "metadata": {},
   "outputs": [],
   "source": [
    "import csv"
   ]
  },
  {
   "cell_type": "code",
   "execution_count": 2,
   "id": "a23ef67e-ab99-41d2-972b-32848994c642",
   "metadata": {},
   "outputs": [],
   "source": [
    "file = open(\"raw_data.txt\", \"r\")"
   ]
  },
  {
   "cell_type": "code",
   "execution_count": 3,
   "id": "9be3e345-a89e-4d13-bbd6-253124f3fe90",
   "metadata": {},
   "outputs": [],
   "source": [
    "datas = file.read().split(\"\\n\")"
   ]
  },
  {
   "cell_type": "markdown",
   "id": "86076422-54b3-4629-afc3-f69987a9c94f",
   "metadata": {
    "tags": []
   },
   "source": [
    "# Cleaning dataset"
   ]
  },
  {
   "cell_type": "markdown",
   "id": "693e4f1b-31d5-4b63-8716-37ae610b7442",
   "metadata": {},
   "source": [
    "## Add header to file"
   ]
  },
  {
   "cell_type": "code",
   "execution_count": 5,
   "id": "e23173b0-fa5a-471d-ab4d-9324a546e522",
   "metadata": {},
   "outputs": [],
   "source": [
    "with open(\"clean_data.csv\", \"w\", encoding=\"utf8\", newline =\"\") as file_csv:\n",
    "\theader = [\"sbd\", \"tên\", \"dd\", \"mm\", \"yy\", \"toán\", \"ngữ văn\", \"khxh\", \"khtn\", \"lịch sử\", \"địa lí\", \"gdcd\", \"sinh học\", \"vật lí\", \"hóa học\", \"tiếng anh\"]\n",
    "\twriter = csv.writer(file_csv)\n",
    "\twriter.writerow(header)"
   ]
  },
  {
   "cell_type": "markdown",
   "id": "58eba526-8b9b-4f90-9b2f-0435fddb9048",
   "metadata": {},
   "source": [
    "## Cleaning process"
   ]
  },
  {
   "cell_type": "code",
   "execution_count": null,
   "id": "e3ea572a-9e48-41ef-8689-f8e9c909c26e",
   "metadata": {},
   "outputs": [],
   "source": [
    "sbd = 2000000\n",
    "for data in datas:\n",
    "    sbd += 1\n",
    "    if sbd in [2000521,2002776,2002833,2005380,2005472,2005733,2005820,2005876,2006091,2006300,2006364,2006544,2006712,2006720,2006904,2008746,2009196,2012503,2019593,2020755,2024536,2027212,2031588,2031948,2035434,2036693,2042067,2042972,2043577,2044668,2046177,2046483,2046496,2046651,2046766,2046771,2046788,2046810,2046841,2046998,2047031,2047122,2047241,2047273,2047304,2047486,2047636,2047834,2047843,2047856,2047865,2048225,2048271,2048279,2048397,2048424,2048427,2048592,2048660,2048701,2048723,2048858,2049069,2049090,2049104,2049164,2049234,2049312,2049383,2049663,2049763,2049775,2049891,2049971,2050378,2050476,2050488,2050516,2050526,2050540,2050576,2050642,2050649,2050722,2050809,2050814,2050899,2050959,2050978,2050984,2050985,2051006,2051072,2051181,2051191,2051234,2051422,2051468,2051472,2051495,2051615,2051616,2051736,2052013,2052030,2052089,2052314,2052373,2052591,2052663,2052711,2052791,2052856,2053000,2053106,2053259,2053593,2053699,2053860,2054235,2054306,2054374,2054508,2054733,2054787,2055119,2055200,2055290,2055296,2055606,2055683,2055803,2055829,2055912,2055930,2055986,2056020,2056032,2056105,2056139,2056186,2056190,2056238,2056273,2056291,2056298,2056333,2056350,2056377,2056393,2056782,2056823,2056865,2056871,2057014,2057294,2057410,2057496,2058404,2058498,2058518,2058789,2058938,2059095,2059163,2059740,2059751,2059769,2059774,2059807,2059852,2060462,2060492,2060536,2060610,2060652,2060656,2060660,2060730,2060738,2061813,2062212,2062236,2062391,2062440,2062898,2063109,2063114,2063179,2063180,2063181,2063207,2063272,2063653,2063707,2063716,2063752,2063754,2063825,2064369,2064704,2064783,2064990,2065104,2065323,2065604,2065877,2065995,2066106,2066212,2066835,2067172,2067291,2067316,2067371,2067383,2067401,2067446,2067467,2067550,2067563,2067659,2067672,2067698,2067762,2067909,2067971,2067996,2068089,2068119,2068156,2068174,2068178,2068243,2068287,2068365,2068382,2068427,2068453,2068548,2068550,2068627,2068667,2068702,2068732,2068846,2068970,2069028,2069043,2069066,2069156,2069290,2069362,2069397,2069843,2069990,2070203,2070870,2071102,2071574,2072480,2072549,2072755,2072823,2073036,2073372,2073477,2073556,2073964,2074135,2074254,2074281,2074367,2074607,2074719]:\n",
    "        continue\n",
    "    sbd_str = \"0\" + str(sbd)\n",
    "\n",
    "    # make data becomes a list\n",
    "    data = data.split(\"\\\\n\")\n",
    "\n",
    "    # remove \\r and \\t\n",
    "    for i in range(len(data)):\n",
    "        data[i] = data[i].replace(\"\\\\r\",\"\")\n",
    "        data[i] = data[i].replace(\"\\\\t\",\"\")\n",
    "\n",
    "\n",
    "    # remove tags\n",
    "    for i in range(len(data)):\n",
    "        tags = []\n",
    "        for j in range(len(data[i])):\n",
    "            if data[i][j] == \"<\":\n",
    "                begin =  j\n",
    "            if data[i][j] == \">\":\n",
    "                end = j\n",
    "                tags.append(data[i][begin:end+1])\n",
    "        for tag in tags:\n",
    "            data[i] = data[i].replace(tag,\"\") \n",
    "\n",
    "    # remove leading whitespace\n",
    "    for i in range(len(data)):\n",
    "        data[i] = data[i].strip()\n",
    "\n",
    "    # remove empty line\n",
    "    emty_line =  [] \n",
    "    for i in range(len(data)):\n",
    "        if data[i] != \"\":\n",
    "            emty_line.append(data[i])\n",
    "    data = emty_line\n",
    "\n",
    "    # choose relevant information\n",
    "    name = data[7]\n",
    "    dob = data[8]\n",
    "    scores = data[9]\n",
    "\n",
    "\n",
    "    # load unicode table\n",
    "    chars = []\n",
    "    codes = []\n",
    "    file = open(\"unicode.txt\", \"r\",encoding=\"utf8\")\n",
    "    unicode_table = file.read().split(\"\\n\")\n",
    "\n",
    "    for code in unicode_table:\n",
    "        x = code.split(\" \")\n",
    "        chars.append(x[0])\n",
    "        codes.append(x[1])\n",
    "\n",
    "\n",
    "    # replace special characters in name and scores\n",
    "    for i in range(len(chars)):\n",
    "        name = name.replace(codes[i],chars[i])\n",
    "        scores = scores.replace(codes[i],chars[i])\n",
    "\n",
    "\n",
    "    # replace web code to character in name\n",
    "    for i in range(len(name)):\n",
    "        if name[i:i+2] == \"&#\":\n",
    "            name = name[:i] +chr(int(name[i+2:i+5])) + name[i+6:]\n",
    "\n",
    "\n",
    "    # replace web code to character in scores\n",
    "    for i in range(len(scores)):\n",
    "        if scores[i:i+2] == \"&#\":\n",
    "            scores = scores[:i] +chr(int(scores[i+2:i+5])) + scores[i+6:]\n",
    "\n",
    "\n",
    "    # change to lower case\n",
    "    name = name.lower()\n",
    "    scores = scores.lower()\n",
    "\n",
    "\n",
    "    # split dob\n",
    "    dob_list = dob.split(\"/\")\n",
    "    dd = int(dob_list[0])\n",
    "    mm = int(dob_list[1])\n",
    "    yy = int(dob_list[2])\n",
    "\n",
    "    # process scores\n",
    "    # remove :\n",
    "    scores = scores.replace(\":\", \"\")\n",
    "    scores = scores.replace(\"khxh \", \"khxh   \") \n",
    "    scores = scores.replace(\"khtn \", \"khtn   \") \n",
    "    scores_list = scores.split(\"   \")\n",
    "\n",
    "    data = [sbd_str,name.title(),str(dd), str(mm), str(yy)]\n",
    "\n",
    "    # add score to data\n",
    "    for subject in [\"toán\", \"ngữ văn\", \"khxh\", \"khtn\", \"lịch sử\", \"địa lí\", \"gdcd\", \"sinh học\", \"vật lí\", \"hóa học\", \"tiếng anh\"]:\n",
    "        if subject in scores_list:\n",
    "            subject_name_position = scores_list.index(subject)\n",
    "            subject_score_position = subject_name_position + 1\n",
    "            subject_score = scores_list[subject_score_position]\n",
    "            data.append(str(subject_score))\n",
    "        else:\n",
    "            data.append(\"-1\")\n",
    "\n",
    "\n",
    "    # write data to test.txt\n",
    "    with open(\"clean_data.csv\", \"a\", encoding=\"utf8\",newline =\"\") as file_csv:\n",
    "        writer = csv.writer(file_csv)\n",
    "        writer.writerow(data)"
   ]
  },
  {
   "cell_type": "markdown",
   "id": "7aa59cee-1c69-40fe-861e-7eb701e417b3",
   "metadata": {},
   "source": [
    "# Visualization"
   ]
  },
  {
   "cell_type": "markdown",
   "id": "6a04e7d9-4832-43bc-8239-dcf28310c3fe",
   "metadata": {
    "tags": []
   },
   "source": [
    "## Top first_name"
   ]
  },
  {
   "cell_type": "code",
   "execution_count": 16,
   "id": "d623723f-8b26-49b4-acf4-db03e176ec75",
   "metadata": {},
   "outputs": [],
   "source": [
    "# read file\n",
    "with open(\"clean_data.csv\",\"r\", encoding =\"utf8\") as file:\n",
    "    data = file.read().split(\"\\n\")\n",
    "\n",
    "header = data[0]\n",
    "students = data[1:] \n",
    "\n",
    "#split each student in list\n",
    "for i in range(len(students)):\n",
    "    students[i] = students[i].split(\",\")\n",
    "\n",
    "students.pop()\n",
    "\n",
    "name = []\n",
    "name_count = []\n",
    "\n",
    "for student in students:\n",
    "    student_name = student[1].split(\" \")\n",
    "    student_name = student_name[-1]\n",
    "\n",
    "    if student_name not in name:\n",
    "        name.append(student_name)\n",
    "        name_count.append(0)\n",
    "        name_count[name.index(student_name)] += 1\n",
    "    else:\n",
    "        name_count[name.index(student_name)] += 1\n",
    "\n",
    "#Sorting value name count\n",
    "counted_max_numer = []\n",
    "sort_index = []\n",
    "\n",
    "for i in range(len(name)):\n",
    "    max_number = 0 \n",
    "    for j in range(len(name)):\n",
    "        if name_count[j] > max_number and name_count[j] not in counted_max_numer:\n",
    "            max_number = name_count[j]\n",
    "    \n",
    "    counted_max_numer.append(max_number)\n",
    "\n",
    "for max_num in counted_max_numer:\n",
    "    for i in range(len(name)):\n",
    "        if name_count[i] == max_num and i not in sort_index:\n",
    "            sort_index.append(i)\n",
    "\n",
    "name_sorted = []\n",
    "name_count_sorted = []\n",
    "for index in sort_index:\n",
    "    name_sorted.append(name[index])\n",
    "    name_count_sorted.append(name_count[index])\n"
   ]
  },
  {
   "cell_type": "code",
   "execution_count": 17,
   "id": "4434eabc-8cf5-4857-9152-ead106df2e5b",
   "metadata": {},
   "outputs": [
    {
     "data": {
      "image/png": "[encoded data removed]",
      "text/plain": [
       "<Figure size 720x504 with 1 Axes>"
      ]
     },
     "metadata": {
      "needs_background": "light"
     },
     "output_type": "display_data"
    }
   ],
   "source": [
    "from matplotlib import pyplot as plt\n",
    " \n",
    "name = name_sorted[0:20]\n",
    "count = name_count_sorted[0:20]\n",
    " \n",
    "# Figure Size\n",
    "fig = plt.figure(figsize =(10, 7))\n",
    " \n",
    "# Horizontal Bar Plot\n",
    "plt.bar(name[0:10], count[0:10])\n",
    " \n",
    "# Show Plot\n",
    "plt.title(\"Top 20 \" + ' tên phổ biển nhất')\n",
    "plt.show()"
   ]
  },
  {
   "cell_type": "markdown",
   "id": "e2327169-09b1-47ce-9581-3bdf7105974d",
   "metadata": {},
   "source": [
    "## Top last name"
   ]
  },
  {
   "cell_type": "code",
   "execution_count": 18,
   "id": "e6773fa2-8f3f-42f1-807e-c3b758a39d17",
   "metadata": {},
   "outputs": [],
   "source": [
    "# read file\n",
    "with open(\"clean_data.csv\",\"r\", encoding =\"utf8\") as file:\n",
    "    data = file.read().split(\"\\n\")\n",
    "\n",
    "\n",
    "header = data[0]\n",
    "students = data[1:] \n",
    "\n",
    "#split each student in list\n",
    "for i in range(len(students)):\n",
    "    students[i] = students[i].split(\",\")\n",
    "\n",
    "students.pop()\n",
    "\n",
    "#Get number of student per age group\n",
    "# 17 18 19 ... 26 >=27\n",
    "last_name = []\n",
    "last_name_count = []\n",
    "\n",
    "for student in students:\n",
    "    student_name = student[1].split(\" \")\n",
    "    student_last_name = student_name[0]\n",
    "\n",
    "    if student_last_name not in last_name:\n",
    "        last_name.append(student_last_name)\n",
    "        last_name_count.append(0)\n",
    "        last_name_count[last_name.index(student_last_name)] += 1\n",
    "    else:\n",
    "        last_name_count[last_name.index(student_last_name)] += 1\n",
    "\n",
    "#Sorting value name count\n",
    "counted_max_numer = []\n",
    "sort_index = []\n",
    "\n",
    "for i in range(len(last_name)):\n",
    "    max_number = 0 \n",
    "    for j in range(len(last_name)):\n",
    "        if last_name_count[j] > max_number and last_name_count[j] not in counted_max_numer:\n",
    "            max_number = last_name_count[j]\n",
    "\n",
    "    counted_max_numer.append(max_number)\n",
    "\n",
    "for max_num in counted_max_numer:\n",
    "    for i in range(len(last_name)):\n",
    "        if last_name_count[i] == max_num and i not in sort_index:\n",
    "            sort_index.append(i)\n",
    "\n",
    "name_sorted = []\n",
    "name_count_sorted = []\n",
    "for index in sort_index:\n",
    "    name_sorted.append(last_name[index])\n",
    "    name_count_sorted.append(last_name_count[index])"
   ]
  },
  {
   "cell_type": "code",
   "execution_count": 19,
   "id": "9d17fe7e-f3f9-4eed-b748-50b0d5de4327",
   "metadata": {},
   "outputs": [
    {
     "data": {
      "image/png": "[encoded data removed]",
      "text/plain": [
       "<Figure size 720x504 with 1 Axes>"
      ]
     },
     "metadata": {
      "needs_background": "light"
     },
     "output_type": "display_data"
    }
   ],
   "source": [
    "from matplotlib import pyplot as plt\n",
    " \n",
    "name = name_sorted[0:20]\n",
    "count = name_count_sorted[0:20]\n",
    " \n",
    "# Figure Size\n",
    "fig = plt.figure(figsize =(10, 7))\n",
    " \n",
    "# Horizontal Bar Plot\n",
    "plt.bar(name[0:10], count[0:10])\n",
    " \n",
    "# Show Plot\n",
    "plt.title(\"Top 20 \" + ' họ phổ biển nhất')\n",
    "plt.show()"
   ]
  },
  {
   "cell_type": "markdown",
   "id": "8123e37d-937e-414e-987a-b54b4ab0540d",
   "metadata": {
    "tags": []
   },
   "source": [
    "## Average score based on age groups"
   ]
  },
  {
   "cell_type": "code",
   "execution_count": 34,
   "id": "d0118e5a-f698-4340-9d92-d4872af77a24",
   "metadata": {},
   "outputs": [],
   "source": [
    "# read file\n",
    "with open(\"clean_data.csv\",\"r\", encoding =\"utf8\") as file:\n",
    "    data = file.read().split(\"\\n\")\n",
    "\n",
    "\n",
    "header = data[0]\n",
    "students = data[1:] \n",
    "\n",
    "#split each student in list\n",
    "for i in range(len(students)):\n",
    "    students[i] = students[i].split(\",\")\n",
    "\n",
    "students.pop()\n",
    "\n",
    "#Get number of student per age group\n",
    "# 17 18 19 ... 26 >=27\n",
    "num_of_student_per_age_group = [0,0,0,0,0,0,0,0,0,0,0]\n",
    "avg_of_student_per_age_group = [0,0,0,0,0,0,0,0,0,0,0]\n",
    "\n",
    "for student in students:\n",
    "    age = 2020 - int(student[4]) \n",
    "    if age >= 27:\n",
    "        age = 27\n",
    "    num_of_student_per_age_group[age - 17] += 1\n",
    "\n",
    "    sum_score = 0 #tổng điêrm\n",
    "    count_score = 0 #số môn thi\n",
    "    for i in range(11):\n",
    "        if student[i+5] != \"-1\":\n",
    "            count_score += 1\n",
    "            sum_score += float(student[i+5])\n",
    "    avg = sum_score/count_score\n",
    "    avg_of_student_per_age_group[age - 17] += avg\n",
    "\n",
    "for i in range(len(avg_of_student_per_age_group)):\n",
    "    avg_of_student_per_age_group[i] = avg_of_student_per_age_group[i]/num_of_student_per_age_group[i]\n",
    "\n",
    "\n",
    "for i in range(len(avg_of_student_per_age_group)):\n",
    "    avg_of_student_per_age_group[i] = avg_of_student_per_age_group[i] * 7000"
   ]
  },
  {
   "cell_type": "code",
   "execution_count": 35,
   "id": "22f7ae7b-04c5-422a-ba34-1b0c48a682ba",
   "metadata": {},
   "outputs": [
    {
     "data": {
      "image/png": "[encoded data removed]",
      "text/plain": [
       "<Figure size 432x288 with 2 Axes>"
      ]
     },
     "metadata": {
      "needs_background": "light"
     },
     "output_type": "display_data"
    }
   ],
   "source": [
    "#plot bar chart\n",
    "import numpy as np\n",
    "import matplotlib.pyplot as plt\n",
    "\n",
    "x = np.arange(11)\n",
    "y = np.arange(11)\n",
    "\n",
    "\n",
    "fig,axis = plt.subplots()\n",
    "plt.plot(x, avg_of_student_per_age_group, color ='red', marker = \"o\")\n",
    "plt.bar(x, num_of_student_per_age_group, align='center')\n",
    "\n",
    "age_labels = [17,18,19,20,21,22,23,24,25,26,\">26\"]\n",
    "\n",
    "plt.xticks(x, age_labels)\n",
    "\n",
    "axis.set_ylim(0,70000)\n",
    "axis.set_ylabel('Số học sinh')\n",
    "axis.set_xlabel('tuổi')\n",
    "\n",
    "#right-side tick\n",
    "axis2 = axis.twinx()\n",
    "axis2.tick_params(\"y\", colors ='r')\n",
    "axis2.set_ylabel(\"Điểm trung bình\")\n",
    "axis2.set_ylim(0,10)\n",
    "\n",
    "# Make some labels.\n",
    "rects = axis.patches\n",
    "\n",
    "labels = [2, 66327, 4463, 1396, 767, 384, 300, 223, 177, 109, 296]\n",
    "for rect, label in zip(rects, labels):\n",
    "    height = rect.get_height()\n",
    "    axis.text(\n",
    "        rect.get_x() + rect.get_width() / 2, height + 5, label, ha=\"center\", va=\"bottom\"\n",
    "    )\n",
    "\n",
    "\n",
    "plt.title('Điểm trung bình theo tuổi')\n",
    "plt.show()"
   ]
  },
  {
   "cell_type": "markdown",
   "id": "e3304eae-30d1-4efc-a4d1-c2db6873f242",
   "metadata": {},
   "source": [
    "## Average score of students did not take exam ??"
   ]
  },
  {
   "cell_type": "code",
   "execution_count": 28,
   "id": "548ec6f0-eb01-43e0-b576-57a465c2196e",
   "metadata": {},
   "outputs": [],
   "source": [
    "# read file\n",
    "with open(\"clean_data.csv\",\"r\", encoding =\"utf8\") as file:\n",
    "    data = file.read().split(\"\\n\")\n",
    "\n",
    "\n",
    "header = data[0]\n",
    "students = data[1:] \n",
    "\n",
    "#split each student in list\n",
    "for i in range(len(students)):\n",
    "    students[i] = students[i].split(\",\")\n",
    "\n",
    "students.pop()\n",
    "\n",
    "num_of_exam_taken = [0,0,0,0,0,0,0,0,0,0,0,0]\n",
    "avg = [0,0,0,0,0,0,0,0,0,0,0,0]\n",
    "\n",
    "\n",
    "#Number of student who took 0,1,... subjects\n",
    "for student in students:\n",
    "    count = 0\n",
    "    total = 0\n",
    "#count exam\n",
    "    for i in range(11):\n",
    "        if student[i+5] != \"-1\":\n",
    "            total += float(student[i+5])\n",
    "            count += 1\n",
    "\n",
    "    num_of_exam_taken[count] += 1\n",
    "    avg[count] += total /count\n",
    "\n",
    "for i in range(12):\n",
    "    if avg[i] == 0:\n",
    "        continue\n",
    "    avg[i] = round(avg[i]/num_of_exam_taken[i],2)"
   ]
  },
  {
   "cell_type": "code",
   "execution_count": 29,
   "id": "91e4a34f-73a3-4dc7-8ca5-5af9560b4c4d",
   "metadata": {},
   "outputs": [
    {
     "data": {
      "image/png": "[encoded data removed]",
      "text/plain": [
       "<Figure size 432x288 with 1 Axes>"
      ]
     },
     "metadata": {
      "needs_background": "light"
     },
     "output_type": "display_data"
    }
   ],
   "source": [
    "#plot barchart\n",
    "import matplotlib.pyplot as plt\n",
    "import numpy as np\n",
    "\n",
    "x = np.arange(12)\n",
    "y = np.arange(12)\n",
    "\n",
    "figure, axis = plt.subplots()\n",
    "\n",
    "\n",
    "plt.bar(y, avg, align='center', alpha=0.8)\n",
    "plt.xticks(x,y)\n",
    "\n",
    "axis.set_ylim(0,10)\n",
    "\n",
    "plt.ylabel('Điểm trung bình')\n",
    "plt.title('Số học sinh bỏ thi hoặc không đăng kí')\n",
    "\n",
    "# Make some labels.\n",
    "rects = axis.patches\n",
    "\n",
    "for rect, avg in zip(rects, avg):\n",
    "    height = rect.get_height()\n",
    "    axis.text(\n",
    "        rect.get_x() + rect.get_width() / 2, height, avg, ha=\"center\", va=\"bottom\"\n",
    "    )\n",
    "plt.show()\n"
   ]
  },
  {
   "cell_type": "markdown",
   "id": "336a2021-bc4e-421e-b7dd-926b76619a75",
   "metadata": {},
   "source": [
    "## Numbers of students who did not take an exam"
   ]
  },
  {
   "cell_type": "code",
   "execution_count": 36,
   "id": "5573fee7-e80d-4132-a9ce-e6e3fe2e6c51",
   "metadata": {},
   "outputs": [],
   "source": [
    "# read file\n",
    "with open(\"clean_data.csv\",\"r\", encoding =\"utf8\") as file:\n",
    "    data = file.read().split(\"\\n\")\n",
    "\n",
    "\n",
    "header = data[0]\n",
    "students = data[1:]\n",
    "\n",
    "#remove last student\n",
    "students.pop()\n",
    "\n",
    "total_student = len(students)\n",
    "\n",
    "#split header\n",
    "header = header.split(\",\")\n",
    "subject = header[5:]\n",
    "\n",
    "#split each student in list\n",
    "for i in range(total_student):\n",
    "    students[i] = students[i].split(\",\")\n",
    "\n",
    "not_take_exam = [0,0,0,0,0,0,0,0,0,0,0]\n",
    "\n",
    "#loop through all students:\n",
    "for student in students:\n",
    "    for i in range(5,16):\n",
    "        if student[i] == \"-1\":\n",
    "            not_take_exam[i-5] += 1\n",
    "\n",
    "not_take_exam_percentage = [0,0,0,0,0,0,0,0,0,0,0]\n",
    "\n",
    "for i in range(0,11):\n",
    "    not_take_exam_percentage[i] = round(100*not_take_exam[i]/total_student,2)"
   ]
  },
  {
   "cell_type": "code",
   "execution_count": 37,
   "id": "f20bd1a4-00e2-4b6a-bc71-b614cfaad393",
   "metadata": {},
   "outputs": [
    {
     "data": {
      "image/png": "[encoded data removed]",
      "text/plain": [
       "<Figure size 720x720 with 1 Axes>"
      ]
     },
     "metadata": {
      "needs_background": "light"
     },
     "output_type": "display_data"
    }
   ],
   "source": [
    "#plot barchart\n",
    "import matplotlib.pyplot as plt\n",
    "import numpy as np\n",
    "\n",
    "figure, axis = plt.subplots(figsize=(10,10))\n",
    "\n",
    "y_pos = np.arange(len(subject))\n",
    "\n",
    "plt.bar(y_pos, not_take_exam_percentage, align='center')\n",
    "plt.xticks(y_pos, subject)\n",
    "\n",
    "axis.set_ylim(0,100)\n",
    "\n",
    "plt.ylabel('Phần trăm')\n",
    "plt.title('Số học sinh bỏ thi hoặc không đăng kí')\n",
    "\n",
    "plt.show()"
   ]
  },
  {
   "cell_type": "code",
   "execution_count": null,
   "id": "f535047a-5911-46b1-8cbd-775caec65440",
   "metadata": {},
   "outputs": [],
   "source": []
  }
 ],
 "metadata": {
  "kernelspec": {
   "display_name": "Python 3 (ipykernel)",
   "language": "python",
   "name": "python3"
  },
  "language_info": {
   "codemirror_mode": {
    "name": "ipython",
    "version": 3
   },
   "file_extension": ".py",
   "mimetype": "text/x-python",
   "name": "python",
   "nbconvert_exporter": "python",
   "pygments_lexer": "ipython3",
   "version": "3.10.1"
  }
 },
 "nbformat": 4,
 "nbformat_minor": 5
}
